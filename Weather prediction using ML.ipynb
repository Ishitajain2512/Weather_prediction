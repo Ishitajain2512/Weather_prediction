{
 "cells": [
  {
   "cell_type": "code",
   "execution_count": 23,
   "id": "ebdb2e41",
   "metadata": {},
   "outputs": [],
   "source": [
    "import pandas as pd\n",
    "from sklearn.linear_model import Ridge\n",
    "from sklearn.metrics import mean_absolute_error"
   ]
  },
  {
   "cell_type": "code",
   "execution_count": 3,
   "id": "175d56d1",
   "metadata": {},
   "outputs": [
    {
     "data": {
      "text/html": [
       "<div>\n",
       "<style scoped>\n",
       "    .dataframe tbody tr th:only-of-type {\n",
       "        vertical-align: middle;\n",
       "    }\n",
       "\n",
       "    .dataframe tbody tr th {\n",
       "        vertical-align: top;\n",
       "    }\n",
       "\n",
       "    .dataframe thead th {\n",
       "        text-align: right;\n",
       "    }\n",
       "</style>\n",
       "<table border=\"1\" class=\"dataframe\">\n",
       "  <thead>\n",
       "    <tr style=\"text-align: right;\">\n",
       "      <th></th>\n",
       "      <th>tavg</th>\n",
       "      <th>tmin</th>\n",
       "      <th>tmax</th>\n",
       "      <th>prcp</th>\n",
       "    </tr>\n",
       "    <tr>\n",
       "      <th>time</th>\n",
       "      <th></th>\n",
       "      <th></th>\n",
       "      <th></th>\n",
       "      <th></th>\n",
       "    </tr>\n",
       "  </thead>\n",
       "  <tbody>\n",
       "    <tr>\n",
       "      <th>01-01-1990</th>\n",
       "      <td>22.9</td>\n",
       "      <td>19.1</td>\n",
       "      <td>28.4</td>\n",
       "      <td>NaN</td>\n",
       "    </tr>\n",
       "    <tr>\n",
       "      <th>02-01-1990</th>\n",
       "      <td>21.7</td>\n",
       "      <td>NaN</td>\n",
       "      <td>26.5</td>\n",
       "      <td>0.0</td>\n",
       "    </tr>\n",
       "    <tr>\n",
       "      <th>03-01-1990</th>\n",
       "      <td>21.0</td>\n",
       "      <td>16.4</td>\n",
       "      <td>26.5</td>\n",
       "      <td>0.0</td>\n",
       "    </tr>\n",
       "    <tr>\n",
       "      <th>04-01-1990</th>\n",
       "      <td>20.8</td>\n",
       "      <td>NaN</td>\n",
       "      <td>27.4</td>\n",
       "      <td>0.0</td>\n",
       "    </tr>\n",
       "    <tr>\n",
       "      <th>05-01-1990</th>\n",
       "      <td>20.4</td>\n",
       "      <td>14.2</td>\n",
       "      <td>26.1</td>\n",
       "      <td>0.0</td>\n",
       "    </tr>\n",
       "    <tr>\n",
       "      <th>...</th>\n",
       "      <td>...</td>\n",
       "      <td>...</td>\n",
       "      <td>...</td>\n",
       "      <td>...</td>\n",
       "    </tr>\n",
       "    <tr>\n",
       "      <th>21-07-2022</th>\n",
       "      <td>23.7</td>\n",
       "      <td>20.5</td>\n",
       "      <td>30.8</td>\n",
       "      <td>82.5</td>\n",
       "    </tr>\n",
       "    <tr>\n",
       "      <th>22-07-2022</th>\n",
       "      <td>23.2</td>\n",
       "      <td>21.1</td>\n",
       "      <td>27.9</td>\n",
       "      <td>0.0</td>\n",
       "    </tr>\n",
       "    <tr>\n",
       "      <th>23-07-2022</th>\n",
       "      <td>23.1</td>\n",
       "      <td>20.9</td>\n",
       "      <td>26.7</td>\n",
       "      <td>0.0</td>\n",
       "    </tr>\n",
       "    <tr>\n",
       "      <th>24-07-2022</th>\n",
       "      <td>22.8</td>\n",
       "      <td>20.0</td>\n",
       "      <td>26.7</td>\n",
       "      <td>0.3</td>\n",
       "    </tr>\n",
       "    <tr>\n",
       "      <th>25-07-2022</th>\n",
       "      <td>24.1</td>\n",
       "      <td>20.2</td>\n",
       "      <td>28.5</td>\n",
       "      <td>0.5</td>\n",
       "    </tr>\n",
       "  </tbody>\n",
       "</table>\n",
       "<p>11894 rows × 4 columns</p>\n",
       "</div>"
      ],
      "text/plain": [
       "            tavg  tmin  tmax  prcp\n",
       "time                              \n",
       "01-01-1990  22.9  19.1  28.4   NaN\n",
       "02-01-1990  21.7   NaN  26.5   0.0\n",
       "03-01-1990  21.0  16.4  26.5   0.0\n",
       "04-01-1990  20.8   NaN  27.4   0.0\n",
       "05-01-1990  20.4  14.2  26.1   0.0\n",
       "...          ...   ...   ...   ...\n",
       "21-07-2022  23.7  20.5  30.8  82.5\n",
       "22-07-2022  23.2  21.1  27.9   0.0\n",
       "23-07-2022  23.1  20.9  26.7   0.0\n",
       "24-07-2022  22.8  20.0  26.7   0.3\n",
       "25-07-2022  24.1  20.2  28.5   0.5\n",
       "\n",
       "[11894 rows x 4 columns]"
      ]
     },
     "execution_count": 3,
     "metadata": {},
     "output_type": "execute_result"
    }
   ],
   "source": [
    "d=pd.read_csv(\"Rajasthan_1990_2022_Jodhpur.csv\",index_col=\"time\")\n",
    "d"
   ]
  },
  {
   "cell_type": "code",
   "execution_count": 4,
   "id": "8fe5d4c2",
   "metadata": {},
   "outputs": [
    {
     "data": {
      "text/plain": [
       "tavg    0.005885\n",
       "tmin    0.116782\n",
       "tmax    0.052884\n",
       "prcp    0.388431\n",
       "dtype: float64"
      ]
     },
     "execution_count": 4,
     "metadata": {},
     "output_type": "execute_result"
    }
   ],
   "source": [
    "d.apply(pd.isnull).sum()/d.shape[0]"
   ]
  },
  {
   "cell_type": "code",
   "execution_count": 5,
   "id": "1898d55e",
   "metadata": {},
   "outputs": [
    {
     "data": {
      "text/plain": [
       "0.0     4262\n",
       "0.5      277\n",
       "0.3      268\n",
       "1.0      216\n",
       "2.0      157\n",
       "        ... \n",
       "30.5       1\n",
       "66.5       1\n",
       "2.1        1\n",
       "10.0       1\n",
       "1.7        1\n",
       "Name: prcp, Length: 277, dtype: int64"
      ]
     },
     "execution_count": 5,
     "metadata": {},
     "output_type": "execute_result"
    }
   ],
   "source": [
    "d[\"prcp\"].value_counts()"
   ]
  },
  {
   "cell_type": "code",
   "execution_count": 6,
   "id": "cd61029b",
   "metadata": {},
   "outputs": [
    {
     "data": {
      "text/html": [
       "<div>\n",
       "<style scoped>\n",
       "    .dataframe tbody tr th:only-of-type {\n",
       "        vertical-align: middle;\n",
       "    }\n",
       "\n",
       "    .dataframe tbody tr th {\n",
       "        vertical-align: top;\n",
       "    }\n",
       "\n",
       "    .dataframe thead th {\n",
       "        text-align: right;\n",
       "    }\n",
       "</style>\n",
       "<table border=\"1\" class=\"dataframe\">\n",
       "  <thead>\n",
       "    <tr style=\"text-align: right;\">\n",
       "      <th></th>\n",
       "      <th>tavg</th>\n",
       "      <th>tmin</th>\n",
       "      <th>tmax</th>\n",
       "      <th>prcp</th>\n",
       "    </tr>\n",
       "    <tr>\n",
       "      <th>time</th>\n",
       "      <th></th>\n",
       "      <th></th>\n",
       "      <th></th>\n",
       "      <th></th>\n",
       "    </tr>\n",
       "  </thead>\n",
       "  <tbody>\n",
       "    <tr>\n",
       "      <th>01-01-1990</th>\n",
       "      <td>22.9</td>\n",
       "      <td>19.1</td>\n",
       "      <td>28.4</td>\n",
       "      <td>NaN</td>\n",
       "    </tr>\n",
       "    <tr>\n",
       "      <th>06-01-1990</th>\n",
       "      <td>20.4</td>\n",
       "      <td>17.1</td>\n",
       "      <td>24.2</td>\n",
       "      <td>NaN</td>\n",
       "    </tr>\n",
       "    <tr>\n",
       "      <th>07-01-1990</th>\n",
       "      <td>18.8</td>\n",
       "      <td>NaN</td>\n",
       "      <td>20.5</td>\n",
       "      <td>NaN</td>\n",
       "    </tr>\n",
       "    <tr>\n",
       "      <th>16-02-1990</th>\n",
       "      <td>25.8</td>\n",
       "      <td>20.6</td>\n",
       "      <td>31.5</td>\n",
       "      <td>NaN</td>\n",
       "    </tr>\n",
       "    <tr>\n",
       "      <th>27-02-1990</th>\n",
       "      <td>23.6</td>\n",
       "      <td>18.6</td>\n",
       "      <td>29.5</td>\n",
       "      <td>NaN</td>\n",
       "    </tr>\n",
       "    <tr>\n",
       "      <th>...</th>\n",
       "      <td>...</td>\n",
       "      <td>...</td>\n",
       "      <td>...</td>\n",
       "      <td>...</td>\n",
       "    </tr>\n",
       "    <tr>\n",
       "      <th>26-12-2020</th>\n",
       "      <td>21.2</td>\n",
       "      <td>16.0</td>\n",
       "      <td>29.0</td>\n",
       "      <td>NaN</td>\n",
       "    </tr>\n",
       "    <tr>\n",
       "      <th>27-12-2020</th>\n",
       "      <td>21.4</td>\n",
       "      <td>15.2</td>\n",
       "      <td>28.4</td>\n",
       "      <td>NaN</td>\n",
       "    </tr>\n",
       "    <tr>\n",
       "      <th>28-12-2020</th>\n",
       "      <td>21.2</td>\n",
       "      <td>16.4</td>\n",
       "      <td>29.8</td>\n",
       "      <td>NaN</td>\n",
       "    </tr>\n",
       "    <tr>\n",
       "      <th>29-12-2020</th>\n",
       "      <td>22.5</td>\n",
       "      <td>16.4</td>\n",
       "      <td>29.8</td>\n",
       "      <td>NaN</td>\n",
       "    </tr>\n",
       "    <tr>\n",
       "      <th>30-12-2020</th>\n",
       "      <td>22.8</td>\n",
       "      <td>18.4</td>\n",
       "      <td>29.0</td>\n",
       "      <td>NaN</td>\n",
       "    </tr>\n",
       "  </tbody>\n",
       "</table>\n",
       "<p>4620 rows × 4 columns</p>\n",
       "</div>"
      ],
      "text/plain": [
       "            tavg  tmin  tmax  prcp\n",
       "time                              \n",
       "01-01-1990  22.9  19.1  28.4   NaN\n",
       "06-01-1990  20.4  17.1  24.2   NaN\n",
       "07-01-1990  18.8   NaN  20.5   NaN\n",
       "16-02-1990  25.8  20.6  31.5   NaN\n",
       "27-02-1990  23.6  18.6  29.5   NaN\n",
       "...          ...   ...   ...   ...\n",
       "26-12-2020  21.2  16.0  29.0   NaN\n",
       "27-12-2020  21.4  15.2  28.4   NaN\n",
       "28-12-2020  21.2  16.4  29.8   NaN\n",
       "29-12-2020  22.5  16.4  29.8   NaN\n",
       "30-12-2020  22.8  18.4  29.0   NaN\n",
       "\n",
       "[4620 rows x 4 columns]"
      ]
     },
     "execution_count": 6,
     "metadata": {},
     "output_type": "execute_result"
    }
   ],
   "source": [
    "d[pd.isnull(d[\"prcp\"])]"
   ]
  },
  {
   "cell_type": "code",
   "execution_count": 7,
   "id": "5d8d2cd8",
   "metadata": {},
   "outputs": [],
   "source": [
    "d[\"prcp\"]=d[\"prcp\"].fillna(0)"
   ]
  },
  {
   "cell_type": "code",
   "execution_count": 8,
   "id": "6b27667b",
   "metadata": {},
   "outputs": [
    {
     "data": {
      "text/html": [
       "<div>\n",
       "<style scoped>\n",
       "    .dataframe tbody tr th:only-of-type {\n",
       "        vertical-align: middle;\n",
       "    }\n",
       "\n",
       "    .dataframe tbody tr th {\n",
       "        vertical-align: top;\n",
       "    }\n",
       "\n",
       "    .dataframe thead th {\n",
       "        text-align: right;\n",
       "    }\n",
       "</style>\n",
       "<table border=\"1\" class=\"dataframe\">\n",
       "  <thead>\n",
       "    <tr style=\"text-align: right;\">\n",
       "      <th></th>\n",
       "      <th>tavg</th>\n",
       "      <th>tmin</th>\n",
       "      <th>tmax</th>\n",
       "      <th>prcp</th>\n",
       "    </tr>\n",
       "    <tr>\n",
       "      <th>time</th>\n",
       "      <th></th>\n",
       "      <th></th>\n",
       "      <th></th>\n",
       "      <th></th>\n",
       "    </tr>\n",
       "  </thead>\n",
       "  <tbody>\n",
       "    <tr>\n",
       "      <th>02-01-1990</th>\n",
       "      <td>21.7</td>\n",
       "      <td>NaN</td>\n",
       "      <td>26.5</td>\n",
       "      <td>0.0</td>\n",
       "    </tr>\n",
       "    <tr>\n",
       "      <th>04-01-1990</th>\n",
       "      <td>20.8</td>\n",
       "      <td>NaN</td>\n",
       "      <td>27.4</td>\n",
       "      <td>0.0</td>\n",
       "    </tr>\n",
       "    <tr>\n",
       "      <th>07-01-1990</th>\n",
       "      <td>18.8</td>\n",
       "      <td>NaN</td>\n",
       "      <td>20.5</td>\n",
       "      <td>0.0</td>\n",
       "    </tr>\n",
       "    <tr>\n",
       "      <th>17-01-1990</th>\n",
       "      <td>23.8</td>\n",
       "      <td>NaN</td>\n",
       "      <td>29.0</td>\n",
       "      <td>0.0</td>\n",
       "    </tr>\n",
       "    <tr>\n",
       "      <th>21-01-1990</th>\n",
       "      <td>23.8</td>\n",
       "      <td>NaN</td>\n",
       "      <td>NaN</td>\n",
       "      <td>0.0</td>\n",
       "    </tr>\n",
       "    <tr>\n",
       "      <th>...</th>\n",
       "      <td>...</td>\n",
       "      <td>...</td>\n",
       "      <td>...</td>\n",
       "      <td>...</td>\n",
       "    </tr>\n",
       "    <tr>\n",
       "      <th>18-05-2016</th>\n",
       "      <td>23.7</td>\n",
       "      <td>NaN</td>\n",
       "      <td>28.3</td>\n",
       "      <td>0.0</td>\n",
       "    </tr>\n",
       "    <tr>\n",
       "      <th>15-07-2016</th>\n",
       "      <td>24.8</td>\n",
       "      <td>NaN</td>\n",
       "      <td>30.7</td>\n",
       "      <td>0.0</td>\n",
       "    </tr>\n",
       "    <tr>\n",
       "      <th>06-03-2017</th>\n",
       "      <td>26.1</td>\n",
       "      <td>NaN</td>\n",
       "      <td>34.5</td>\n",
       "      <td>0.0</td>\n",
       "    </tr>\n",
       "    <tr>\n",
       "      <th>23-05-2018</th>\n",
       "      <td>23.7</td>\n",
       "      <td>NaN</td>\n",
       "      <td>31.6</td>\n",
       "      <td>24.9</td>\n",
       "    </tr>\n",
       "    <tr>\n",
       "      <th>17-09-2018</th>\n",
       "      <td>23.6</td>\n",
       "      <td>NaN</td>\n",
       "      <td>28.3</td>\n",
       "      <td>0.0</td>\n",
       "    </tr>\n",
       "  </tbody>\n",
       "</table>\n",
       "<p>1389 rows × 4 columns</p>\n",
       "</div>"
      ],
      "text/plain": [
       "            tavg  tmin  tmax  prcp\n",
       "time                              \n",
       "02-01-1990  21.7   NaN  26.5   0.0\n",
       "04-01-1990  20.8   NaN  27.4   0.0\n",
       "07-01-1990  18.8   NaN  20.5   0.0\n",
       "17-01-1990  23.8   NaN  29.0   0.0\n",
       "21-01-1990  23.8   NaN   NaN   0.0\n",
       "...          ...   ...   ...   ...\n",
       "18-05-2016  23.7   NaN  28.3   0.0\n",
       "15-07-2016  24.8   NaN  30.7   0.0\n",
       "06-03-2017  26.1   NaN  34.5   0.0\n",
       "23-05-2018  23.7   NaN  31.6  24.9\n",
       "17-09-2018  23.6   NaN  28.3   0.0\n",
       "\n",
       "[1389 rows x 4 columns]"
      ]
     },
     "execution_count": 8,
     "metadata": {},
     "output_type": "execute_result"
    }
   ],
   "source": [
    "d[pd.isnull(d[\"tmin\"])]"
   ]
  },
  {
   "cell_type": "code",
   "execution_count": 9,
   "id": "cddca883",
   "metadata": {},
   "outputs": [
    {
     "data": {
      "text/plain": [
       "tavg    0.0\n",
       "tmin    0.0\n",
       "tmax    0.0\n",
       "prcp    0.0\n",
       "dtype: float64"
      ]
     },
     "execution_count": 9,
     "metadata": {},
     "output_type": "execute_result"
    }
   ],
   "source": [
    "d=d.fillna(method=\"ffill\")\n",
    "d.apply(pd.isnull).sum()/d.shape[0]"
   ]
  },
  {
   "cell_type": "code",
   "execution_count": 10,
   "id": "4bdb8a4e",
   "metadata": {},
   "outputs": [
    {
     "data": {
      "text/plain": [
       "tavg    float64\n",
       "tmin    float64\n",
       "tmax    float64\n",
       "prcp    float64\n",
       "dtype: object"
      ]
     },
     "execution_count": 10,
     "metadata": {},
     "output_type": "execute_result"
    }
   ],
   "source": [
    "d.dtypes"
   ]
  },
  {
   "cell_type": "code",
   "execution_count": 11,
   "id": "c085ef8e",
   "metadata": {},
   "outputs": [
    {
     "data": {
      "text/plain": [
       "Index(['01-01-1990', '02-01-1990', '03-01-1990', '04-01-1990', '05-01-1990',\n",
       "       '06-01-1990', '07-01-1990', '08-01-1990', '09-01-1990', '10-01-1990',\n",
       "       ...\n",
       "       '16-07-2022', '17-07-2022', '18-07-2022', '19-07-2022', '20-07-2022',\n",
       "       '21-07-2022', '22-07-2022', '23-07-2022', '24-07-2022', '25-07-2022'],\n",
       "      dtype='object', name='time', length=11894)"
      ]
     },
     "execution_count": 11,
     "metadata": {},
     "output_type": "execute_result"
    }
   ],
   "source": [
    "d.index"
   ]
  },
  {
   "cell_type": "code",
   "execution_count": 12,
   "id": "73a8c5c8",
   "metadata": {},
   "outputs": [
    {
     "data": {
      "text/plain": [
       "tavg    0\n",
       "tmin    0\n",
       "tmax    0\n",
       "prcp    0\n",
       "dtype: int64"
      ]
     },
     "execution_count": 12,
     "metadata": {},
     "output_type": "execute_result"
    }
   ],
   "source": [
    "d.apply(lambda x : (x==9999).sum())"
   ]
  },
  {
   "cell_type": "code",
   "execution_count": 13,
   "id": "0e03bc3b",
   "metadata": {},
   "outputs": [
    {
     "data": {
      "text/plain": [
       "<AxesSubplot:xlabel='time'>"
      ]
     },
     "execution_count": 13,
     "metadata": {},
     "output_type": "execute_result"
    },
    {
     "data": {
      "image/png": "[encoded data removed]",
      "text/plain": [
       "<Figure size 432x288 with 1 Axes>"
      ]
     },
     "metadata": {
      "needs_background": "light"
     },
     "output_type": "display_data"
    }
   ],
   "source": [
    "d[[\"tmin\",\"tmax\"]].plot()"
   ]
  },
  {
   "cell_type": "code",
   "execution_count": 14,
   "id": "7f9dc628",
   "metadata": {},
   "outputs": [
    {
     "data": {
      "text/plain": [
       "<AxesSubplot:xlabel='time'>"
      ]
     },
     "execution_count": 14,
     "metadata": {},
     "output_type": "execute_result"
    },
    {
     "data": {
      "image/png": "[encoded data removed]",
      "text/plain": [
       "<Figure size 432x288 with 1 Axes>"
      ]
     },
     "metadata": {
      "needs_background": "light"
     },
     "output_type": "display_data"
    }
   ],
   "source": [
    "d[[\"prcp\"]].plot()"
   ]
  },
  {
   "cell_type": "code",
   "execution_count": 19,
   "id": "cafc0b79",
   "metadata": {},
   "outputs": [
    {
     "data": {
      "text/html": [
       "<div>\n",
       "<style scoped>\n",
       "    .dataframe tbody tr th:only-of-type {\n",
       "        vertical-align: middle;\n",
       "    }\n",
       "\n",
       "    .dataframe tbody tr th {\n",
       "        vertical-align: top;\n",
       "    }\n",
       "\n",
       "    .dataframe thead th {\n",
       "        text-align: right;\n",
       "    }\n",
       "</style>\n",
       "<table border=\"1\" class=\"dataframe\">\n",
       "  <thead>\n",
       "    <tr style=\"text-align: right;\">\n",
       "      <th></th>\n",
       "      <th>tavg</th>\n",
       "      <th>tmin</th>\n",
       "      <th>tmax</th>\n",
       "      <th>prcp</th>\n",
       "      <th>target</th>\n",
       "    </tr>\n",
       "    <tr>\n",
       "      <th>time</th>\n",
       "      <th></th>\n",
       "      <th></th>\n",
       "      <th></th>\n",
       "      <th></th>\n",
       "      <th></th>\n",
       "    </tr>\n",
       "  </thead>\n",
       "  <tbody>\n",
       "    <tr>\n",
       "      <th>01-01-1990</th>\n",
       "      <td>22.9</td>\n",
       "      <td>19.1</td>\n",
       "      <td>28.4</td>\n",
       "      <td>0.0</td>\n",
       "      <td>26.5</td>\n",
       "    </tr>\n",
       "    <tr>\n",
       "      <th>02-01-1990</th>\n",
       "      <td>21.7</td>\n",
       "      <td>19.1</td>\n",
       "      <td>26.5</td>\n",
       "      <td>0.0</td>\n",
       "      <td>26.5</td>\n",
       "    </tr>\n",
       "    <tr>\n",
       "      <th>03-01-1990</th>\n",
       "      <td>21.0</td>\n",
       "      <td>16.4</td>\n",
       "      <td>26.5</td>\n",
       "      <td>0.0</td>\n",
       "      <td>27.4</td>\n",
       "    </tr>\n",
       "    <tr>\n",
       "      <th>04-01-1990</th>\n",
       "      <td>20.8</td>\n",
       "      <td>16.4</td>\n",
       "      <td>27.4</td>\n",
       "      <td>0.0</td>\n",
       "      <td>26.1</td>\n",
       "    </tr>\n",
       "    <tr>\n",
       "      <th>05-01-1990</th>\n",
       "      <td>20.4</td>\n",
       "      <td>14.2</td>\n",
       "      <td>26.1</td>\n",
       "      <td>0.0</td>\n",
       "      <td>24.2</td>\n",
       "    </tr>\n",
       "    <tr>\n",
       "      <th>...</th>\n",
       "      <td>...</td>\n",
       "      <td>...</td>\n",
       "      <td>...</td>\n",
       "      <td>...</td>\n",
       "      <td>...</td>\n",
       "    </tr>\n",
       "    <tr>\n",
       "      <th>21-07-2022</th>\n",
       "      <td>23.7</td>\n",
       "      <td>20.5</td>\n",
       "      <td>30.8</td>\n",
       "      <td>82.5</td>\n",
       "      <td>27.9</td>\n",
       "    </tr>\n",
       "    <tr>\n",
       "      <th>22-07-2022</th>\n",
       "      <td>23.2</td>\n",
       "      <td>21.1</td>\n",
       "      <td>27.9</td>\n",
       "      <td>0.0</td>\n",
       "      <td>26.7</td>\n",
       "    </tr>\n",
       "    <tr>\n",
       "      <th>23-07-2022</th>\n",
       "      <td>23.1</td>\n",
       "      <td>20.9</td>\n",
       "      <td>26.7</td>\n",
       "      <td>0.0</td>\n",
       "      <td>26.7</td>\n",
       "    </tr>\n",
       "    <tr>\n",
       "      <th>24-07-2022</th>\n",
       "      <td>22.8</td>\n",
       "      <td>20.0</td>\n",
       "      <td>26.7</td>\n",
       "      <td>0.3</td>\n",
       "      <td>28.5</td>\n",
       "    </tr>\n",
       "    <tr>\n",
       "      <th>25-07-2022</th>\n",
       "      <td>24.1</td>\n",
       "      <td>20.2</td>\n",
       "      <td>28.5</td>\n",
       "      <td>0.5</td>\n",
       "      <td>NaN</td>\n",
       "    </tr>\n",
       "  </tbody>\n",
       "</table>\n",
       "<p>11894 rows × 5 columns</p>\n",
       "</div>"
      ],
      "text/plain": [
       "            tavg  tmin  tmax  prcp  target\n",
       "time                                      \n",
       "01-01-1990  22.9  19.1  28.4   0.0    26.5\n",
       "02-01-1990  21.7  19.1  26.5   0.0    26.5\n",
       "03-01-1990  21.0  16.4  26.5   0.0    27.4\n",
       "04-01-1990  20.8  16.4  27.4   0.0    26.1\n",
       "05-01-1990  20.4  14.2  26.1   0.0    24.2\n",
       "...          ...   ...   ...   ...     ...\n",
       "21-07-2022  23.7  20.5  30.8  82.5    27.9\n",
       "22-07-2022  23.2  21.1  27.9   0.0    26.7\n",
       "23-07-2022  23.1  20.9  26.7   0.0    26.7\n",
       "24-07-2022  22.8  20.0  26.7   0.3    28.5\n",
       "25-07-2022  24.1  20.2  28.5   0.5     NaN\n",
       "\n",
       "[11894 rows x 5 columns]"
      ]
     },
     "execution_count": 19,
     "metadata": {},
     "output_type": "execute_result"
    }
   ],
   "source": [
    "d[\"target\"]=d.shift(-1)[\"tmax\"]\n",
    "d"
   ]
  },
  {
   "cell_type": "code",
   "execution_count": 20,
   "id": "ac3a41b0",
   "metadata": {},
   "outputs": [
    {
     "data": {
      "text/html": [
       "<div>\n",
       "<style scoped>\n",
       "    .dataframe tbody tr th:only-of-type {\n",
       "        vertical-align: middle;\n",
       "    }\n",
       "\n",
       "    .dataframe tbody tr th {\n",
       "        vertical-align: top;\n",
       "    }\n",
       "\n",
       "    .dataframe thead th {\n",
       "        text-align: right;\n",
       "    }\n",
       "</style>\n",
       "<table border=\"1\" class=\"dataframe\">\n",
       "  <thead>\n",
       "    <tr style=\"text-align: right;\">\n",
       "      <th></th>\n",
       "      <th>tavg</th>\n",
       "      <th>tmin</th>\n",
       "      <th>tmax</th>\n",
       "      <th>prcp</th>\n",
       "      <th>target</th>\n",
       "    </tr>\n",
       "    <tr>\n",
       "      <th>time</th>\n",
       "      <th></th>\n",
       "      <th></th>\n",
       "      <th></th>\n",
       "      <th></th>\n",
       "      <th></th>\n",
       "    </tr>\n",
       "  </thead>\n",
       "  <tbody>\n",
       "    <tr>\n",
       "      <th>01-01-1990</th>\n",
       "      <td>22.9</td>\n",
       "      <td>19.1</td>\n",
       "      <td>28.4</td>\n",
       "      <td>0.0</td>\n",
       "      <td>26.5</td>\n",
       "    </tr>\n",
       "    <tr>\n",
       "      <th>02-01-1990</th>\n",
       "      <td>21.7</td>\n",
       "      <td>19.1</td>\n",
       "      <td>26.5</td>\n",
       "      <td>0.0</td>\n",
       "      <td>26.5</td>\n",
       "    </tr>\n",
       "    <tr>\n",
       "      <th>03-01-1990</th>\n",
       "      <td>21.0</td>\n",
       "      <td>16.4</td>\n",
       "      <td>26.5</td>\n",
       "      <td>0.0</td>\n",
       "      <td>27.4</td>\n",
       "    </tr>\n",
       "    <tr>\n",
       "      <th>04-01-1990</th>\n",
       "      <td>20.8</td>\n",
       "      <td>16.4</td>\n",
       "      <td>27.4</td>\n",
       "      <td>0.0</td>\n",
       "      <td>26.1</td>\n",
       "    </tr>\n",
       "    <tr>\n",
       "      <th>05-01-1990</th>\n",
       "      <td>20.4</td>\n",
       "      <td>14.2</td>\n",
       "      <td>26.1</td>\n",
       "      <td>0.0</td>\n",
       "      <td>24.2</td>\n",
       "    </tr>\n",
       "    <tr>\n",
       "      <th>...</th>\n",
       "      <td>...</td>\n",
       "      <td>...</td>\n",
       "      <td>...</td>\n",
       "      <td>...</td>\n",
       "      <td>...</td>\n",
       "    </tr>\n",
       "    <tr>\n",
       "      <th>20-07-2022</th>\n",
       "      <td>24.9</td>\n",
       "      <td>19.8</td>\n",
       "      <td>30.8</td>\n",
       "      <td>0.0</td>\n",
       "      <td>30.8</td>\n",
       "    </tr>\n",
       "    <tr>\n",
       "      <th>21-07-2022</th>\n",
       "      <td>23.7</td>\n",
       "      <td>20.5</td>\n",
       "      <td>30.8</td>\n",
       "      <td>82.5</td>\n",
       "      <td>27.9</td>\n",
       "    </tr>\n",
       "    <tr>\n",
       "      <th>22-07-2022</th>\n",
       "      <td>23.2</td>\n",
       "      <td>21.1</td>\n",
       "      <td>27.9</td>\n",
       "      <td>0.0</td>\n",
       "      <td>26.7</td>\n",
       "    </tr>\n",
       "    <tr>\n",
       "      <th>23-07-2022</th>\n",
       "      <td>23.1</td>\n",
       "      <td>20.9</td>\n",
       "      <td>26.7</td>\n",
       "      <td>0.0</td>\n",
       "      <td>26.7</td>\n",
       "    </tr>\n",
       "    <tr>\n",
       "      <th>24-07-2022</th>\n",
       "      <td>22.8</td>\n",
       "      <td>20.0</td>\n",
       "      <td>26.7</td>\n",
       "      <td>0.3</td>\n",
       "      <td>28.5</td>\n",
       "    </tr>\n",
       "  </tbody>\n",
       "</table>\n",
       "<p>11893 rows × 5 columns</p>\n",
       "</div>"
      ],
      "text/plain": [
       "            tavg  tmin  tmax  prcp  target\n",
       "time                                      \n",
       "01-01-1990  22.9  19.1  28.4   0.0    26.5\n",
       "02-01-1990  21.7  19.1  26.5   0.0    26.5\n",
       "03-01-1990  21.0  16.4  26.5   0.0    27.4\n",
       "04-01-1990  20.8  16.4  27.4   0.0    26.1\n",
       "05-01-1990  20.4  14.2  26.1   0.0    24.2\n",
       "...          ...   ...   ...   ...     ...\n",
       "20-07-2022  24.9  19.8  30.8   0.0    30.8\n",
       "21-07-2022  23.7  20.5  30.8  82.5    27.9\n",
       "22-07-2022  23.2  21.1  27.9   0.0    26.7\n",
       "23-07-2022  23.1  20.9  26.7   0.0    26.7\n",
       "24-07-2022  22.8  20.0  26.7   0.3    28.5\n",
       "\n",
       "[11893 rows x 5 columns]"
      ]
     },
     "execution_count": 20,
     "metadata": {},
     "output_type": "execute_result"
    }
   ],
   "source": [
    "d=d.iloc[:-1,:].copy()\n",
    "d"
   ]
  },
  {
   "cell_type": "code",
   "execution_count": 24,
   "id": "6d338725",
   "metadata": {},
   "outputs": [
    {
     "data": {
      "text/plain": [
       "Ridge(alpha=0.1)"
      ]
     },
     "execution_count": 24,
     "metadata": {},
     "output_type": "execute_result"
    }
   ],
   "source": [
    "reg=Ridge(alpha=.1)\n",
    "predictors=[\"prcp\",\"tmax\",\"tmin\"]\n",
    "train=d.loc[:\"31-12-2020\"]\n",
    "test=d.loc[\"01-01-2021\":]\n",
    "reg.fit(train[predictors],train[\"target\"])"
   ]
  },
  {
   "cell_type": "code",
   "execution_count": 26,
   "id": "941dc7b4",
   "metadata": {},
   "outputs": [
    {
     "data": {
      "text/plain": [
       "0.9355689835860534"
      ]
     },
     "execution_count": 26,
     "metadata": {},
     "output_type": "execute_result"
    }
   ],
   "source": [
    "predictions=reg.predict(test[predictors])\n",
    "mean_absolute_error(test[\"target\"],predictions)"
   ]
  },
  {
   "cell_type": "code",
   "execution_count": 28,
   "id": "db5bca36",
   "metadata": {},
   "outputs": [
    {
     "data": {
      "text/html": [
       "<div>\n",
       "<style scoped>\n",
       "    .dataframe tbody tr th:only-of-type {\n",
       "        vertical-align: middle;\n",
       "    }\n",
       "\n",
       "    .dataframe tbody tr th {\n",
       "        vertical-align: top;\n",
       "    }\n",
       "\n",
       "    .dataframe thead th {\n",
       "        text-align: right;\n",
       "    }\n",
       "</style>\n",
       "<table border=\"1\" class=\"dataframe\">\n",
       "  <thead>\n",
       "    <tr style=\"text-align: right;\">\n",
       "      <th></th>\n",
       "      <th>Actual</th>\n",
       "      <th>Predictions</th>\n",
       "    </tr>\n",
       "    <tr>\n",
       "      <th>time</th>\n",
       "      <th></th>\n",
       "      <th></th>\n",
       "    </tr>\n",
       "  </thead>\n",
       "  <tbody>\n",
       "    <tr>\n",
       "      <th>01-01-2021</th>\n",
       "      <td>26.0</td>\n",
       "      <td>25.715572</td>\n",
       "    </tr>\n",
       "    <tr>\n",
       "      <th>02-01-2021</th>\n",
       "      <td>26.0</td>\n",
       "      <td>26.335333</td>\n",
       "    </tr>\n",
       "    <tr>\n",
       "      <th>03-01-2021</th>\n",
       "      <td>27.6</td>\n",
       "      <td>26.424378</td>\n",
       "    </tr>\n",
       "    <tr>\n",
       "      <th>04-01-2021</th>\n",
       "      <td>26.2</td>\n",
       "      <td>27.832799</td>\n",
       "    </tr>\n",
       "    <tr>\n",
       "      <th>05-01-2021</th>\n",
       "      <td>27.3</td>\n",
       "      <td>26.597401</td>\n",
       "    </tr>\n",
       "    <tr>\n",
       "      <th>...</th>\n",
       "      <td>...</td>\n",
       "      <td>...</td>\n",
       "    </tr>\n",
       "    <tr>\n",
       "      <th>20-07-2022</th>\n",
       "      <td>30.8</td>\n",
       "      <td>30.714282</td>\n",
       "    </tr>\n",
       "    <tr>\n",
       "      <th>21-07-2022</th>\n",
       "      <td>27.9</td>\n",
       "      <td>30.708577</td>\n",
       "    </tr>\n",
       "    <tr>\n",
       "      <th>22-07-2022</th>\n",
       "      <td>26.7</td>\n",
       "      <td>28.199395</td>\n",
       "    </tr>\n",
       "    <tr>\n",
       "      <th>23-07-2022</th>\n",
       "      <td>26.7</td>\n",
       "      <td>27.128939</td>\n",
       "    </tr>\n",
       "    <tr>\n",
       "      <th>24-07-2022</th>\n",
       "      <td>28.5</td>\n",
       "      <td>27.092455</td>\n",
       "    </tr>\n",
       "  </tbody>\n",
       "</table>\n",
       "<p>570 rows × 2 columns</p>\n",
       "</div>"
      ],
      "text/plain": [
       "            Actual  Predictions\n",
       "time                           \n",
       "01-01-2021    26.0    25.715572\n",
       "02-01-2021    26.0    26.335333\n",
       "03-01-2021    27.6    26.424378\n",
       "04-01-2021    26.2    27.832799\n",
       "05-01-2021    27.3    26.597401\n",
       "...            ...          ...\n",
       "20-07-2022    30.8    30.714282\n",
       "21-07-2022    27.9    30.708577\n",
       "22-07-2022    26.7    28.199395\n",
       "23-07-2022    26.7    27.128939\n",
       "24-07-2022    28.5    27.092455\n",
       "\n",
       "[570 rows x 2 columns]"
      ]
     },
     "execution_count": 28,
     "metadata": {},
     "output_type": "execute_result"
    }
   ],
   "source": [
    "c=pd.concat([test[\"target\"],pd.Series(predictions,index=test.index)],axis=1)\n",
    "c.columns=[\"Actual\",\"Predictions\"]\n",
    "c"
   ]
  },
  {
   "cell_type": "code",
   "execution_count": 29,
   "id": "2fff5520",
   "metadata": {},
   "outputs": [
    {
     "data": {
      "text/plain": [
       "<AxesSubplot:xlabel='time'>"
      ]
     },
     "execution_count": 29,
     "metadata": {},
     "output_type": "execute_result"
    },
    {
     "data": {
      "image/png": "[encoded data removed]",
      "text/plain": [
       "<Figure size 432x288 with 1 Axes>"
      ]
     },
     "metadata": {
      "needs_background": "light"
     },
     "output_type": "display_data"
    }
   ],
   "source": [
    "c.plot()"
   ]
  },
  {
   "cell_type": "code",
   "execution_count": 30,
   "id": "93cca992",
   "metadata": {},
   "outputs": [
    {
     "data": {
      "text/plain": [
       "array([-4.11949047e-04,  8.85313212e-01,  4.04004437e-02])"
      ]
     },
     "execution_count": 30,
     "metadata": {},
     "output_type": "execute_result"
    }
   ],
   "source": [
    "reg.coef_"
   ]
  },
  {
   "cell_type": "code",
   "execution_count": 31,
   "id": "c8e3b494",
   "metadata": {},
   "outputs": [],
   "source": [
    "def create_predictions(predictors,d,reg):\n",
    "    train=d.loc[:\"31-12-2020\"]\n",
    "    test=d.loc[\"01-01-2021\":]\n",
    "    reg.fit(train[predictors],train[\"target\"])\n",
    "    predictions=reg.predict(test[predictors])\n",
    "    error=mean_absolute_error(test[\"target\"],predictions)\n",
    "    c=pd.concat([test[\"target\"],pd.Series(predictions,index=test.index)],axis=1)\n",
    "    c.columns=[\"Actual\",\"Predictions\"]\n",
    "    return error,c"
   ]
  },
  {
   "cell_type": "code",
   "execution_count": 32,
   "id": "18aa83a0",
   "metadata": {},
   "outputs": [
    {
     "data": {
      "text/html": [
       "<div>\n",
       "<style scoped>\n",
       "    .dataframe tbody tr th:only-of-type {\n",
       "        vertical-align: middle;\n",
       "    }\n",
       "\n",
       "    .dataframe tbody tr th {\n",
       "        vertical-align: top;\n",
       "    }\n",
       "\n",
       "    .dataframe thead th {\n",
       "        text-align: right;\n",
       "    }\n",
       "</style>\n",
       "<table border=\"1\" class=\"dataframe\">\n",
       "  <thead>\n",
       "    <tr style=\"text-align: right;\">\n",
       "      <th></th>\n",
       "      <th>tavg</th>\n",
       "      <th>tmin</th>\n",
       "      <th>tmax</th>\n",
       "      <th>prcp</th>\n",
       "      <th>target</th>\n",
       "      <th>month_max</th>\n",
       "    </tr>\n",
       "    <tr>\n",
       "      <th>time</th>\n",
       "      <th></th>\n",
       "      <th></th>\n",
       "      <th></th>\n",
       "      <th></th>\n",
       "      <th></th>\n",
       "      <th></th>\n",
       "    </tr>\n",
       "  </thead>\n",
       "  <tbody>\n",
       "    <tr>\n",
       "      <th>01-01-1990</th>\n",
       "      <td>22.9</td>\n",
       "      <td>19.1</td>\n",
       "      <td>28.4</td>\n",
       "      <td>0.0</td>\n",
       "      <td>26.5</td>\n",
       "      <td>NaN</td>\n",
       "    </tr>\n",
       "    <tr>\n",
       "      <th>02-01-1990</th>\n",
       "      <td>21.7</td>\n",
       "      <td>19.1</td>\n",
       "      <td>26.5</td>\n",
       "      <td>0.0</td>\n",
       "      <td>26.5</td>\n",
       "      <td>NaN</td>\n",
       "    </tr>\n",
       "    <tr>\n",
       "      <th>03-01-1990</th>\n",
       "      <td>21.0</td>\n",
       "      <td>16.4</td>\n",
       "      <td>26.5</td>\n",
       "      <td>0.0</td>\n",
       "      <td>27.4</td>\n",
       "      <td>NaN</td>\n",
       "    </tr>\n",
       "    <tr>\n",
       "      <th>04-01-1990</th>\n",
       "      <td>20.8</td>\n",
       "      <td>16.4</td>\n",
       "      <td>27.4</td>\n",
       "      <td>0.0</td>\n",
       "      <td>26.1</td>\n",
       "      <td>NaN</td>\n",
       "    </tr>\n",
       "    <tr>\n",
       "      <th>05-01-1990</th>\n",
       "      <td>20.4</td>\n",
       "      <td>14.2</td>\n",
       "      <td>26.1</td>\n",
       "      <td>0.0</td>\n",
       "      <td>24.2</td>\n",
       "      <td>NaN</td>\n",
       "    </tr>\n",
       "    <tr>\n",
       "      <th>...</th>\n",
       "      <td>...</td>\n",
       "      <td>...</td>\n",
       "      <td>...</td>\n",
       "      <td>...</td>\n",
       "      <td>...</td>\n",
       "      <td>...</td>\n",
       "    </tr>\n",
       "    <tr>\n",
       "      <th>20-07-2022</th>\n",
       "      <td>24.9</td>\n",
       "      <td>19.8</td>\n",
       "      <td>30.8</td>\n",
       "      <td>0.0</td>\n",
       "      <td>30.8</td>\n",
       "      <td>27.210000</td>\n",
       "    </tr>\n",
       "    <tr>\n",
       "      <th>21-07-2022</th>\n",
       "      <td>23.7</td>\n",
       "      <td>20.5</td>\n",
       "      <td>30.8</td>\n",
       "      <td>82.5</td>\n",
       "      <td>27.9</td>\n",
       "      <td>27.310000</td>\n",
       "    </tr>\n",
       "    <tr>\n",
       "      <th>22-07-2022</th>\n",
       "      <td>23.2</td>\n",
       "      <td>21.1</td>\n",
       "      <td>27.9</td>\n",
       "      <td>0.0</td>\n",
       "      <td>26.7</td>\n",
       "      <td>27.313333</td>\n",
       "    </tr>\n",
       "    <tr>\n",
       "      <th>23-07-2022</th>\n",
       "      <td>23.1</td>\n",
       "      <td>20.9</td>\n",
       "      <td>26.7</td>\n",
       "      <td>0.0</td>\n",
       "      <td>26.7</td>\n",
       "      <td>27.330000</td>\n",
       "    </tr>\n",
       "    <tr>\n",
       "      <th>24-07-2022</th>\n",
       "      <td>22.8</td>\n",
       "      <td>20.0</td>\n",
       "      <td>26.7</td>\n",
       "      <td>0.3</td>\n",
       "      <td>28.5</td>\n",
       "      <td>27.300000</td>\n",
       "    </tr>\n",
       "  </tbody>\n",
       "</table>\n",
       "<p>11893 rows × 6 columns</p>\n",
       "</div>"
      ],
      "text/plain": [
       "            tavg  tmin  tmax  prcp  target  month_max\n",
       "time                                                 \n",
       "01-01-1990  22.9  19.1  28.4   0.0    26.5        NaN\n",
       "02-01-1990  21.7  19.1  26.5   0.0    26.5        NaN\n",
       "03-01-1990  21.0  16.4  26.5   0.0    27.4        NaN\n",
       "04-01-1990  20.8  16.4  27.4   0.0    26.1        NaN\n",
       "05-01-1990  20.4  14.2  26.1   0.0    24.2        NaN\n",
       "...          ...   ...   ...   ...     ...        ...\n",
       "20-07-2022  24.9  19.8  30.8   0.0    30.8  27.210000\n",
       "21-07-2022  23.7  20.5  30.8  82.5    27.9  27.310000\n",
       "22-07-2022  23.2  21.1  27.9   0.0    26.7  27.313333\n",
       "23-07-2022  23.1  20.9  26.7   0.0    26.7  27.330000\n",
       "24-07-2022  22.8  20.0  26.7   0.3    28.5  27.300000\n",
       "\n",
       "[11893 rows x 6 columns]"
      ]
     },
     "execution_count": 32,
     "metadata": {},
     "output_type": "execute_result"
    }
   ],
   "source": [
    "d[\"month_max\"]=d[\"tmax\"].rolling(30).mean()\n",
    "d"
   ]
  },
  {
   "cell_type": "code",
   "execution_count": 33,
   "id": "76498c7f",
   "metadata": {},
   "outputs": [
    {
     "data": {
      "text/plain": [
       "0.9104586669981909"
      ]
     },
     "execution_count": 33,
     "metadata": {},
     "output_type": "execute_result"
    }
   ],
   "source": [
    "d[\"month_day_max\"]=d[\"month_max\"]/d[\"tmax\"]\n",
    "d[\"max_min\"]=d[\"tmax\"]/d[\"tmin\"]\n",
    "predictors=[\"prcp\",\"tmax\",\"tmin\",\"month_max\",\"month_day_max\",\"max_min\"]\n",
    "d=d.iloc[30:,:].copy()\n",
    "error,c=create_predictions(predictors,d,reg)\n",
    "error"
   ]
  },
  {
   "cell_type": "code",
   "execution_count": 34,
   "id": "a218713c",
   "metadata": {},
   "outputs": [
    {
     "data": {
      "text/plain": [
       "<AxesSubplot:xlabel='time'>"
      ]
     },
     "execution_count": 34,
     "metadata": {},
     "output_type": "execute_result"
    },
    {
     "data": {
      "image/png": "[encoded data removed]",
      "text/plain": [
       "<Figure size 432x288 with 1 Axes>"
      ]
     },
     "metadata": {
      "needs_background": "light"
     },
     "output_type": "display_data"
    }
   ],
   "source": [
    "c.plot()"
   ]
  },
  {
   "cell_type": "code",
   "execution_count": 36,
   "id": "e61da460",
   "metadata": {},
   "outputs": [
    {
     "data": {
      "text/plain": [
       "array([-3.21543476e-03,  1.27210902e+00,  6.01002605e-02, -3.42086199e-01,\n",
       "        1.58351158e+01,  1.00047033e+00])"
      ]
     },
     "execution_count": 36,
     "metadata": {},
     "output_type": "execute_result"
    }
   ],
   "source": [
    "reg.coef_"
   ]
  },
  {
   "cell_type": "code",
   "execution_count": 37,
   "id": "6272b060",
   "metadata": {},
   "outputs": [
    {
     "data": {
      "text/plain": [
       "tavg             0.840010\n",
       "tmin             0.435009\n",
       "tmax             0.900389\n",
       "prcp            -0.085519\n",
       "target           1.000000\n",
       "month_max        0.775025\n",
       "month_day_max   -0.397277\n",
       "max_min          0.261535\n",
       "Name: target, dtype: float64"
      ]
     },
     "execution_count": 37,
     "metadata": {},
     "output_type": "execute_result"
    }
   ],
   "source": [
    "d.corr()[\"target\"]"
   ]
  },
  {
   "cell_type": "code",
   "execution_count": 40,
   "id": "e3860080",
   "metadata": {},
   "outputs": [
    {
     "data": {
      "text/html": [
       "<div>\n",
       "<style scoped>\n",
       "    .dataframe tbody tr th:only-of-type {\n",
       "        vertical-align: middle;\n",
       "    }\n",
       "\n",
       "    .dataframe tbody tr th {\n",
       "        vertical-align: top;\n",
       "    }\n",
       "\n",
       "    .dataframe thead th {\n",
       "        text-align: right;\n",
       "    }\n",
       "</style>\n",
       "<table border=\"1\" class=\"dataframe\">\n",
       "  <thead>\n",
       "    <tr style=\"text-align: right;\">\n",
       "      <th></th>\n",
       "      <th>Actual</th>\n",
       "      <th>Predictions</th>\n",
       "      <th>diff</th>\n",
       "    </tr>\n",
       "    <tr>\n",
       "      <th>time</th>\n",
       "      <th></th>\n",
       "      <th></th>\n",
       "      <th></th>\n",
       "    </tr>\n",
       "  </thead>\n",
       "  <tbody>\n",
       "    <tr>\n",
       "      <th>10-05-2022</th>\n",
       "      <td>25.0</td>\n",
       "      <td>31.675578</td>\n",
       "      <td>6.675578</td>\n",
       "    </tr>\n",
       "    <tr>\n",
       "      <th>19-02-2021</th>\n",
       "      <td>24.5</td>\n",
       "      <td>29.394671</td>\n",
       "      <td>4.894671</td>\n",
       "    </tr>\n",
       "    <tr>\n",
       "      <th>15-05-2021</th>\n",
       "      <td>28.0</td>\n",
       "      <td>32.476380</td>\n",
       "      <td>4.476380</td>\n",
       "    </tr>\n",
       "    <tr>\n",
       "      <th>18-11-2021</th>\n",
       "      <td>23.2</td>\n",
       "      <td>27.094153</td>\n",
       "      <td>3.894153</td>\n",
       "    </tr>\n",
       "    <tr>\n",
       "      <th>26-11-2021</th>\n",
       "      <td>23.0</td>\n",
       "      <td>26.781056</td>\n",
       "      <td>3.781056</td>\n",
       "    </tr>\n",
       "  </tbody>\n",
       "</table>\n",
       "</div>"
      ],
      "text/plain": [
       "            Actual  Predictions      diff\n",
       "time                                     \n",
       "10-05-2022    25.0    31.675578  6.675578\n",
       "19-02-2021    24.5    29.394671  4.894671\n",
       "15-05-2021    28.0    32.476380  4.476380\n",
       "18-11-2021    23.2    27.094153  3.894153\n",
       "26-11-2021    23.0    26.781056  3.781056"
      ]
     },
     "execution_count": 40,
     "metadata": {},
     "output_type": "execute_result"
    }
   ],
   "source": [
    "c[\"diff\"]=(c[\"Actual\"]-c[\"Predictions\"]).abs()\n",
    "c.sort_values(\"diff\",ascending=False).head()"
   ]
  },
  {
   "cell_type": "code",
   "execution_count": null,
   "id": "20a2bc19",
   "metadata": {},
   "outputs": [],
   "source": []
  }
 ],
 "metadata": {
  "kernelspec": {
   "display_name": "Python 3",
   "language": "python",
   "name": "python3"
  },
  "language_info": {
   "codemirror_mode": {
    "name": "ipython",
    "version": 3
   },
   "file_extension": ".py",
   "mimetype": "text/x-python",
   "name": "python",
   "nbconvert_exporter": "python",
   "pygments_lexer": "ipython3",
   "version": "3.8.8"
  }
 },
 "nbformat": 4,
 "nbformat_minor": 5
}
